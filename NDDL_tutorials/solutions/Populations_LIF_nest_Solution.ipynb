{
 "cells": [
  {
   "cell_type": "markdown",
   "id": "45fbcd41",
   "metadata": {},
   "source": [
    "# Populations of LIF neurons"
   ]
  },
  {
   "cell_type": "code",
   "execution_count": 1,
   "id": "3474432a",
   "metadata": {},
   "outputs": [],
   "source": [
    "import numpy as np\n",
    "import random \n",
    "import time\n",
    "import nest\n",
    "import pylab\n",
    "import nest.raster_plot\n",
    "import matplotlib.pyplot as plt\n",
    "nest.ResetKernel()"
   ]
  },
  {
   "cell_type": "markdown",
   "id": "5da71610",
   "metadata": {},
   "source": [
    "We want a system to create a population of connected neurons. We want to set all the parameters of a group in the same way, not feasible to create one neuron at a time with its own parameters. How can we do that?"
   ]
  },
  {
   "cell_type": "code",
   "execution_count": 2,
   "id": "af038d50",
   "metadata": {},
   "outputs": [],
   "source": [
    "ndict = {\"I_e\": 200.0, \"tau_m\": 20.0}\n",
    "neuronpop = nest.Create(\"iaf_psc_alpha\", 100, params=ndict)\n",
    "\n",
    "#We just created 100 LIF neurons. \n",
    "#We can define their parameters using params= dictionary with the parameters we want to set "
   ]
  },
  {
   "cell_type": "markdown",
   "id": "d4c1849a",
   "metadata": {},
   "source": [
    "Create now 2 populations. One population with 150 neurons, the second with 100 neurons. \n",
    "The first populations should have I_e= 300 and tau_m= 20.0 while the second population should have \n",
    "I_e= 200 and tau_m= 10.0."
   ]
  },
  {
   "cell_type": "code",
   "execution_count": 3,
   "id": "5aab16fe",
   "metadata": {},
   "outputs": [],
   "source": [
    "#Answer:\n"
   ]
  },
  {
   "cell_type": "code",
   "execution_count": 4,
   "id": "815cde25",
   "metadata": {},
   "outputs": [],
   "source": [
    "#Solution: \n",
    "ndict1 = {\"I_e\": 300.0, \"tau_m\": 20.0}\n",
    "neuronpop1 = nest.Create(\"iaf_psc_alpha\", 150, params=ndict1)\n",
    "\n",
    "ndict2 = {\"I_e\": 200.0, \"tau_m\": 10.0}\n",
    "neuronpop2 = nest.Create(\"iaf_psc_alpha\", 100, params=ndict2)\n"
   ]
  },
  {
   "cell_type": "markdown",
   "id": "8a7181e9",
   "metadata": {},
   "source": [
    "How can we connect two populations? Do we want all the neurons to be connected? Only a part of them? This is part of the modeler choice! Let's explore some options:"
   ]
  },
  {
   "cell_type": "code",
   "execution_count": 5,
   "id": "05f8d9c8",
   "metadata": {},
   "outputs": [],
   "source": [
    "pop1=nest.Create(\"iaf_psc_alpha\", 10)\n",
    "pop2=nest.Create(\"iaf_psc_alpha\", 10)\n",
    "nest.Connect(pop1, pop2,'all_to_all', syn_spec={\"weight\":20.0})\n",
    "#Each neuron of pop1 is connected to every neuron in pop2.\n",
    "#How many connections do we have in total in this example?\n",
    "#Answer: 100"
   ]
  },
  {
   "cell_type": "markdown",
   "id": "1dfd0f36",
   "metadata": {},
   "source": [
    "Alternatively, the neurons can be connected with the one_to_one rule. This means that the first neuron in pop1 is connected to the first neuron in pop2, the second to the second, etc., creating ten connections in total."
   ]
  },
  {
   "cell_type": "code",
   "execution_count": 6,
   "id": "3fdea1d7",
   "metadata": {},
   "outputs": [],
   "source": [
    "nest.Connect(pop1, pop2, \"one_to_one\", syn_spec={\"weight\":20.0})"
   ]
  },
  {
   "cell_type": "markdown",
   "id": "59154508",
   "metadata": {},
   "source": [
    "Here we have just used very simple connection schemes. Connectivity patterns requiring the specification of further parameters, such as in-degree or connection probabilities, must be defined in a dictionary containing the key rule and the key for parameters associated to the rule. Have a look here to see more complex connection rules:\n",
    "https://nest-simulator.readthedocs.io/en/stable/guides/connection_management.html#all-to-all\n",
    "\n",
    "Then choose one and create your own network of two populations with the connection rule you prefer!\n"
   ]
  },
  {
   "cell_type": "code",
   "execution_count": 7,
   "id": "ab0c1b77",
   "metadata": {},
   "outputs": [],
   "source": [
    "#Answer:\n"
   ]
  },
  {
   "cell_type": "code",
   "execution_count": 8,
   "id": "38b447a4",
   "metadata": {},
   "outputs": [],
   "source": [
    "#one possible solution: \n",
    "n, m, N = 10, 12, 2\n",
    "A = nest.Create('iaf_psc_alpha', n)\n",
    "B = nest.Create('iaf_psc_alpha', m)\n",
    "conn_spec_dict = {'rule': 'fixed_indegree', 'indegree': N}\n",
    "nest.Connect(A, B, conn_spec_dict)\n"
   ]
  },
  {
   "cell_type": "markdown",
   "id": "956ee639",
   "metadata": {},
   "source": [
    "# Analyse 1 big population of connected neurons. "
   ]
  },
  {
   "cell_type": "markdown",
   "id": "abbb5ddc",
   "metadata": {},
   "source": [
    "We will now create one network of LIF neurons and look at the results of the simulation."
   ]
  },
  {
   "cell_type": "code",
   "execution_count": 9,
   "id": "a18251ce",
   "metadata": {},
   "outputs": [],
   "source": [
    "nest.ResetKernel()"
   ]
  },
  {
   "cell_type": "code",
   "execution_count": 10,
   "id": "ec61ec22",
   "metadata": {},
   "outputs": [],
   "source": [
    "dt = 1.0  # the resolution in ms\n",
    "t_sim = 1000.0  # Simulation time in ms"
   ]
  },
  {
   "cell_type": "markdown",
   "id": "f05f3531",
   "metadata": {},
   "source": [
    "Create a populations of 100 neurons with \"I_e\": 190.0, \"tau_m\": 20.0"
   ]
  },
  {
   "cell_type": "code",
   "execution_count": 11,
   "id": "ace4b7a2",
   "metadata": {},
   "outputs": [],
   "source": [
    "#Answer:"
   ]
  },
  {
   "cell_type": "code",
   "execution_count": 12,
   "id": "a41071b5",
   "metadata": {},
   "outputs": [],
   "source": [
    "#Solution:\n",
    "N_neurons=100\n",
    "ndict = {\"I_e\": 190.0, \"tau_m\": 20.0}\n",
    "pop1 = nest.Create(\"iaf_psc_alpha\", N_neurons, params=ndict)"
   ]
  },
  {
   "cell_type": "markdown",
   "id": "755b0237",
   "metadata": {},
   "source": [
    "Connect all the neurons in the population with the \"all_to_all rule\" and a weight=5."
   ]
  },
  {
   "cell_type": "code",
   "execution_count": 13,
   "id": "06850933",
   "metadata": {},
   "outputs": [],
   "source": [
    "#Answer:"
   ]
  },
  {
   "cell_type": "code",
   "execution_count": 14,
   "id": "8894aa7f",
   "metadata": {},
   "outputs": [],
   "source": [
    "#Solution:\n",
    "nest.Connect(pop1, pop1,'all_to_all', syn_spec={\"weight\":50.0})"
   ]
  },
  {
   "cell_type": "code",
   "execution_count": 15,
   "id": "25cca813",
   "metadata": {},
   "outputs": [],
   "source": [
    "#Create the spike recorder \n",
    "spikes = nest.Create(\"spike_recorder\") \n",
    "N_rec=10\n",
    "#Connect pop with spike recorders\n",
    "nest.Connect(pop1[:N_rec], spikes) \n",
    "\n",
    "#Create the multimeter to record the membrane potential\n",
    "multimeter=nest.Create('multimeter', N_rec) # I record from just N_rec neurons (not all)\n",
    "multimeter.set(record_from=[\"V_m\"])\n",
    "#Connect pop with multimeter\n",
    "nest.Connect(multimeter, pop1[:N_rec])"
   ]
  },
  {
   "cell_type": "code",
   "execution_count": 16,
   "id": "6c10b7a7",
   "metadata": {},
   "outputs": [],
   "source": [
    "#Simulate the network for a given time\n",
    "start = time.time()\n",
    "nest.Simulate(t_sim)\n",
    "end = time.time()"
   ]
  },
  {
   "cell_type": "code",
   "execution_count": 17,
   "id": "5e28ab95",
   "metadata": {},
   "outputs": [
    {
     "name": "stdout",
     "output_type": "stream",
     "text": [
      "Time of the simulation: 0.14773154258728027\n",
      "Simulate the network\n",
      "Number of neurons : 100\n",
      "FR of the population   : 381.00 Hz\n"
     ]
    },
    {
     "data": {
      "text/plain": [
       "<Figure size 432x288 with 0 Axes>"
      ]
     },
     "metadata": {},
     "output_type": "display_data"
    },
    {
     "data": {
      "image/png": "[encoded data removed]",
      "text/plain": [
       "<Figure size 432x288 with 2 Axes>"
      ]
     },
     "metadata": {
      "needs_background": "light"
     },
     "output_type": "display_data"
    }
   ],
   "source": [
    "#RESULTS OF THE SIMULATION\n",
    "events=nest.GetStatus(spikes,'n_events')[0] #to count the number of spikes from N_rec neurons\n",
    "rate = (events / (t_sim *N_rec))* 1000.0 #Compute the mean firing rate for the population\n",
    "\n",
    "print(\"Time of the simulation:\",end-start)\n",
    "print(\"Simulate the network\")\n",
    "print(\"Number of neurons : {0}\".format(N_neurons))\n",
    "print(\"FR of the population   : %.2f Hz\" % rate)\n",
    "\n",
    "#Raster plot\n",
    "pylab.figure(1)\n",
    "nest.raster_plot.from_device(spikes, hist=True)\n",
    "pylab.title('Spikes of the population')\n",
    "#pylab.savefig('Exit_rast_hist_nest30.png')\n",
    "plt.show()"
   ]
  },
  {
   "cell_type": "code",
   "execution_count": 18,
   "id": "6b2ed183",
   "metadata": {},
   "outputs": [
    {
     "data": {
      "image/png": "[encoded data removed]",
      "text/plain": [
       "<Figure size 432x288 with 1 Axes>"
      ]
     },
     "metadata": {
      "needs_background": "light"
     },
     "output_type": "display_data"
    }
   ],
   "source": [
    "#We want to plot the membrane potential evolution of the neurons\n",
    "dmm=nest.GetStatus(multimeter)[0] #the index 0 allow me to then visualize neuron 0, if you put 9 you observe neuron 9\n",
    "Vms_e=dmm['events'][\"V_m\"][::N_rec]# first index until the end ::\n",
    "#After each 10 values I have the next V (at next time step) for that neuron \n",
    "#For each step i record 10 neurons\n",
    "#If I don't put 10 I have the 10 values of V for each step (because I record from 10 neurons)\n",
    "ts_e=dmm['events']['times'][::N_rec] #Same reasoning as before\n",
    "\n",
    "#Plot the figure for Vm for 1 neuron\n",
    "pylab.figure(1)\n",
    "pylab.plot(ts_e,Vms_e, color='r')\n",
    "pylab.title('Vm vs time (exitatory)')\n",
    "pylab.xlim(0,1000)\n",
    "#pylab.xlim(0,200)\n",
    "pylab.xlabel('time (ms)')\n",
    "pylab.ylabel('Vm')\n",
    "#pylab.savefig('memb_params.png')\n",
    "pylab.show()"
   ]
  },
  {
   "cell_type": "markdown",
   "id": "94731d39",
   "metadata": {},
   "source": [
    "What happens when we increase the input to the neurons? How the mean FR is changing? \\\n",
    "Change the value I_e and run again the code to answer. (remember to run from the cell nest.ResetKernel())"
   ]
  },
  {
   "cell_type": "code",
   "execution_count": 19,
   "id": "cba1d115",
   "metadata": {},
   "outputs": [],
   "source": [
    "#Answer:\n",
    "#The FR is extermely high. "
   ]
  },
  {
   "cell_type": "markdown",
   "id": "0299506c",
   "metadata": {},
   "source": [
    "Put I_e back to 190. \n",
    "What happens now if we increase the weight between the neurons? How the mean FR is changing? \\\n",
    "Change the value \"weight\" and run again the code to answer. (remember to run from the cell nest.ResetKernel()) \\\n",
    "Why do you think this is happening?"
   ]
  },
  {
   "cell_type": "code",
   "execution_count": 20,
   "id": "d27be8e1",
   "metadata": {},
   "outputs": [],
   "source": [
    "#Answer:\n",
    "#Try weigh=30\n",
    "#the FR is very high. The neurons are very connected so when they spike they influence the other neurons a lot. "
   ]
  },
  {
   "cell_type": "markdown",
   "id": "f76b5e0f",
   "metadata": {},
   "source": [
    "Try to increase significantly the nymber of neurons. How is the time of the simulation affected? Reflect on this."
   ]
  },
  {
   "cell_type": "code",
   "execution_count": 21,
   "id": "31ae07e7",
   "metadata": {},
   "outputs": [],
   "source": [
    "#Answer:\n",
    "#A lot of computation time"
   ]
  },
  {
   "cell_type": "markdown",
   "id": "b00875b6",
   "metadata": {},
   "source": [
    "How can we simulate a really big network? Do you know High performance computers (HPC)?"
   ]
  },
  {
   "cell_type": "code",
   "execution_count": 22,
   "id": "36c6dcf6",
   "metadata": {},
   "outputs": [],
   "source": [
    "#Answer:"
   ]
  },
  {
   "cell_type": "markdown",
   "id": "a40def8e",
   "metadata": {},
   "source": [
    "# Complex example: 2 interacting populations. "
   ]
  },
  {
   "cell_type": "markdown",
   "id": "555af090",
   "metadata": {},
   "source": [
    "Now that we are familiar with Nest let's look at a more complex example where we have two populations: \n",
    "one excitatory and one inhibitory. Each population has its own parameter values. Let's study the how the two populations interact."
   ]
  },
  {
   "cell_type": "markdown",
   "id": "ea176ab4",
   "metadata": {},
   "source": [
    "Fisrt try to understand every step of the code, ask me for help if you don't understand something. Later you will need to change some part of the code to be able to answer the questions and study the network behavior."
   ]
  },
  {
   "cell_type": "code",
   "execution_count": 33,
   "id": "4c6626fc",
   "metadata": {},
   "outputs": [
    {
     "name": "stdout",
     "output_type": "stream",
     "text": [
      "Building network\n",
      "Connecting network\n",
      "Connecting devices\n",
      "Simulating\n",
      "Network simulation\n",
      "Number of neurons : 1000\n",
      "Number of synapses: 106100\n",
      "       Exitatory  : 80000\n",
      "       Inhibitory : 20000\n",
      "Excitatory rate   : 300.20 Hz\n",
      "Inhibitory rate   : 153.96 Hz\n",
      "Building time     : 0.04 s\n",
      "Simulation time   : 2.69 s\n"
     ]
    }
   ],
   "source": [
    "nest.ResetKernel()\n",
    "startbuild = time.time() #to time the building time of the network\n",
    "\n",
    "dt = 1.0  # the resolution in ms\n",
    "t_sim = 1000.0  # Simulation time in ms\n",
    "delay = 0.5  # synaptic delay in ms\n",
    "\n",
    "nest.SetKernelStatus({\"resolution\": dt, \"print_time\": True,\n",
    "                      \"overwrite_files\": True})\n",
    "\n",
    "epsilon = 0.1  # connection probability\n",
    "\n",
    "order = 1000 \n",
    "Ne = int(0.8 * order)  # number of excitatory neurons\n",
    "Ni = int(0.2 * order)  # number of inhibitory neurons\n",
    "N_neurons = Ne + Ni  # number of neurons in total\n",
    "N_rec = 50  # record from 50 neurons\n",
    "\n",
    "CE = int(epsilon * Ne)  # number of excitatory synapses per neuron\n",
    "CI = int(epsilon * Ni)  # number of inhibitory synapses per neuron\n",
    "#C_tot = int(CI + CE)  # total number of synapses per neuron\n",
    "\n",
    "tau_e = 20.0  #ms time constant of membrane potential for exitatory\n",
    "tau_i = 10.0  #ms time constant of membrane potential for inhibitory\n",
    "theta = 15.0  #mV membrane threshold potential \n",
    "Cm_e=500 #pF capacitance of the membrane for excitatory neurons\n",
    "Cm_i=200 #pF capacitance of the membrane for excitatory neurons\n",
    "\n",
    "ex_params = {\"C_m\": Cm_e,\n",
    "                 \"tau_m\": tau_e,\n",
    "                 \"t_ref\": 2.0,\n",
    "                 \"E_L\": 0.0,\n",
    "                 \"V_reset\": 0.0,\n",
    "                 \"V_m\": 0.0,\n",
    "                 \"I_e\": 0.0,\n",
    "                 \"V_th\": theta}\n",
    "\n",
    "in_params = {\"C_m\": Cm_i, \n",
    "                 \"tau_m\": tau_i,\n",
    "                 \"t_ref\": 2.0,\n",
    "                 \"E_L\": 0.0,\n",
    "                 \"V_reset\": 0.0,\n",
    "                 \"V_m\":0.0,\n",
    "                 \"I_e\": 0.0,\n",
    "                 \"V_th\": theta}\n",
    "\n",
    "print(\"Building network\")\n",
    "#I am creating the network\n",
    "pop_e=nest.Create('iaf_psc_delta',Ne, params=ex_params) #Build the Excitatory pop, Ne neurons, with params set before\n",
    "pop_i=nest.Create('iaf_psc_delta',Ni, params=in_params)  #Build the Inhib pop, Ni neurons, with params set before\n",
    "\n",
    "#Weights I will use between the 2 populatons:\n",
    "Jee = 5  #to e from e # amplitude of postsynaptic potential (in mV)\n",
    "Jie= 0.1  #to i from e\n",
    "Jii= -0.2 # to i from i\n",
    "Jei= -0.01 #to e from i (try -0.3)\n",
    "\n",
    "#connections values between populations I will use when connecting\n",
    "syn_dict_ie={'delay':delay, 'weight': Jie} \n",
    "syn_dict_ee={'delay':delay, 'weight': Jee} \n",
    "syn_dict_ei={'delay':delay, 'weight': Jei}\n",
    "syn_dict_ii={'delay':delay, 'weight': Jii}\n",
    "\n",
    "#Rules of connections I am using\n",
    "conn_dict_ex = {'rule': 'fixed_indegree', 'indegree': CE}\n",
    "conn_dict_in = {'rule': 'fixed_indegree', 'indegree': CI}\n",
    "\n",
    "print(\"Connecting network\")\n",
    "#Excitatory connections\n",
    "nest.Connect(pop_e, pop_e, conn_dict_ex, syn_spec= syn_dict_ee) #i am connecting the populations with the parameters specified above\n",
    "nest.Connect(pop_e, pop_i, conn_dict_ex, syn_spec= syn_dict_ie)\n",
    "#Inhibitory connections\n",
    "nest.Connect(pop_i,pop_e, conn_dict_in, syn_spec= syn_dict_ei)\n",
    "nest.Connect(pop_i,pop_i, conn_dict_in, syn_spec= syn_dict_ii)\n",
    "\n",
    "endbuild = time.time()\n",
    "\n",
    "#Gaussian distribution for noise, mean current + variance std\n",
    "noise_g=nest.Create('noise_generator')  \n",
    "nest.SetStatus(noise_g,{'mean':380.0,'std':50.0,'start':0.0,\n",
    "                          'stop':t_sim})\n",
    "print(\"Connecting devices\")\n",
    "nest.Connect(noise_g, pop_e) #connect input+noise with the neuron populations\n",
    "nest.Connect(noise_g, pop_i)\n",
    "\n",
    "# Use this for the exercise later (and comment the gaussian input)\n",
    "# Constant Current input\n",
    "# curr=nest.Create('dc_generator')\n",
    "# nest.SetStatus(curr,{'amplitude':400.0})\n",
    "# nest.Connect(curr, pop_i)\n",
    "# nest.Connect(curr, pop_e)\n",
    "\n",
    "#create the spike recorder for both populations\n",
    "espikes = nest.Create(\"spike_recorder\") \n",
    "ispikes = nest.Create(\"spike_recorder\")\n",
    "\n",
    "# connect pop with spike recorders\n",
    "nest.Connect(pop_e[:N_rec], espikes) \n",
    "nest.Connect(pop_i[:N_rec], ispikes)\n",
    "\n",
    "#Create the multimeter to record the potentials\n",
    "#For exitatory\n",
    "multimeter_e=nest.Create('multimeter', N_rec) # I record from just N_rec neurons (not all)\n",
    "multimeter_e.set(record_from=[\"V_m\"])\n",
    "\n",
    "#For inhibitory\n",
    "multimeter_i=nest.Create('multimeter',N_rec)\n",
    "multimeter_i.set(record_from=[\"V_m\"])\n",
    "\n",
    "#connect pop with multimeters\n",
    "nest.Connect(multimeter_e, pop_e[:N_rec])\n",
    "nest.Connect(multimeter_i, pop_i[:N_rec]) \n",
    "\n",
    "print(\"Simulating\")\n",
    "nest.Simulate(t_sim)\n",
    "endsimulate = time.time() #to time how long is my simulation\n",
    "\n",
    "#read the total number of spikes\n",
    "events_ex=nest.GetStatus(espikes,'n_events')[0]\n",
    "events_in=nest.GetStatus(ispikes,'n_events')[0]\n",
    "\n",
    "#Compute the mean firing rate for the two populations\n",
    "rate_e = (events_ex / (t_sim *N_rec))* 1000.0\n",
    "rate_i = (events_in / (t_sim *N_rec))* 1000.0 #1000 to go from /ms to /s (Hz)\n",
    "\n",
    "num_synapses = nest.GetDefaults('static_synapse')[\"num_connections\"]\n",
    "\n",
    "#Compute the times of run of the program\n",
    "build_time = endbuild - startbuild\n",
    "sim_time = endsimulate - endbuild\n",
    "\n",
    "print(\"Network simulation\")\n",
    "print(\"Number of neurons : {0}\".format(N_neurons))\n",
    "print(\"Number of synapses: {0}\".format(num_synapses))\n",
    "print(\"       Exitatory  : {0}\".format(int(CE * Ne) + int(CE*Ni)))\n",
    "print(\"       Inhibitory : {0}\".format(int(CI * Ni)+int(CI*Ne) ))\n",
    "print(\"Excitatory rate   : %.2f Hz\" % rate_e)\n",
    "print(\"Inhibitory rate   : %.2f Hz\" % rate_i)\n",
    "print(\"Building time     : %.2f s\" % build_time)\n",
    "print(\"Simulation time   : %.2f s\" % sim_time)"
   ]
  },
  {
   "cell_type": "code",
   "execution_count": 34,
   "id": "08f77188",
   "metadata": {},
   "outputs": [
    {
     "data": {
      "text/plain": [
       "<Figure size 432x288 with 0 Axes>"
      ]
     },
     "metadata": {},
     "output_type": "display_data"
    },
    {
     "data": {
      "image/png": "[encoded data removed]",
      "text/plain": [
       "<Figure size 432x288 with 2 Axes>"
      ]
     },
     "metadata": {
      "needs_background": "light"
     },
     "output_type": "display_data"
    },
    {
     "data": {
      "text/plain": [
       "<Figure size 432x288 with 0 Axes>"
      ]
     },
     "metadata": {},
     "output_type": "display_data"
    },
    {
     "data": {
      "image/png": "[encoded data removed]",
      "text/plain": [
       "<Figure size 432x288 with 2 Axes>"
      ]
     },
     "metadata": {
      "needs_background": "light"
     },
     "output_type": "display_data"
    }
   ],
   "source": [
    "#Raster of exitatory\n",
    "pylab.figure(1)\n",
    "nest.raster_plot.from_device(espikes, hist=True)\n",
    "pylab.title('Excitatory spikes')\n",
    "#pylab.savefig('Exit_rast_hist_nest30.png')\n",
    "plt.show()\n",
    "\n",
    "#Raster of exitatory\n",
    "pylab.figure(2)\n",
    "nest.raster_plot.from_device(ispikes, hist=True)\n",
    "pylab.title('Inhibitory spikes')\n",
    "#pylab.savefig('Inibh_rast_hist_nest30.png')\n",
    "plt.show()"
   ]
  },
  {
   "cell_type": "code",
   "execution_count": null,
   "id": "2bc2180b",
   "metadata": {},
   "outputs": [],
   "source": [
    "#We want to plot the membrane potential evolution of the neurons\n",
    "#Vm FOR EXITATORY\n",
    "dmm=nest.GetStatus(multimeter_e)[0] #the index 0 allow me to then visualize neuron 0, if you put 10 you observe neuron 10\n",
    "#print(dmm)\n",
    "Vms_e=dmm['events'][\"V_m\"][::N_rec]# first index until the end ::\n",
    "#After each 50 values I have the next V (at next time step) for that neuron \n",
    "#For each step i record 50 neurons)\n",
    "#If I don't put 50 I have the 50 values of V for each step (because I have 50 neurons)\n",
    "\n",
    "#print(Vms_e[0:100])\n",
    "ts_e=dmm['events']['times'][::N_rec] #Same reasoning as before\n",
    "#print(ts_e[0:100])\n",
    "\n",
    "#Plot the figure for Vm for 1 exitatory neuron\n",
    "pylab.figure(1)\n",
    "pylab.plot(ts_e,Vms_e, color='r')\n",
    "pylab.title('Vm vs time (exitatory)')\n",
    "#pylab.xlim(800,1000)\n",
    "#pylab.xlim(0,200)\n",
    "pylab.xlabel('time (ms)')\n",
    "pylab.ylabel('Vm')\n",
    "#pylab.savefig('Exit_memb_params.png')\n",
    "pylab.show()\n",
    "\n",
    "\n",
    "\n",
    "#Vm FOR INHIBITORY\n",
    "dmm=nest.GetStatus(multimeter_i)[0]\n",
    "#print(dmm)\n",
    "Vms_i=dmm['events']['V_m'][::N_rec]# first index until the end, 2nd endtry for each \n",
    "ts_i=dmm['events']['times'][::N_rec]\n",
    "pylab.figure(2)\n",
    "pylab.plot(ts_i,Vms_i)\n",
    "pylab.title('Vm vs time (inhibitory)')\n",
    "pylab.xlabel('time (ms)')\n",
    "pylab.xlim(0,200)\n",
    "#pylab.xlim(800,1000)\n",
    "pylab.ylabel('Vm')\n",
    "#pylab.savefig('Inib_memb_params.png')\n",
    "pylab.show()\n",
    "\n",
    "#SPIKE COUNTER FOR EXITATORY\n",
    "dsD_e=nest.GetStatus(espikes, keys='events')[0] #Here I access directly the dictionary with key eventnts of the first neuru[0]\n",
    "evs_e=dsD_e['senders']\n",
    "ts_e=dsD_e['times']\n",
    "\n",
    "pylab.figure(3)\n",
    "pylab.plot(ts_e,evs_e,'.',color='r')\n",
    "pylab.title('Raster plot (Exitatory)')\n",
    "pylab.xlabel('time (ms)')\n",
    "pylab.ylabel('neuron index')\n",
    "#pylab.savefig('Raster_Exit_params_nest30.png')\n",
    "pylab.show()\n",
    "\n",
    "#SPIKE COUNTER FOR INHIBITORY\n",
    "dsD_i=nest.GetStatus(ispikes, keys='events')[0] #Here I access directly the dictionary with key eventnts of the first neuru[0]\n",
    "evs_i=dsD_i['senders']\n",
    "ts_i=dsD_i['times']\n",
    "\n",
    "pylab.figure(4)\n",
    "pylab.plot(ts_i,evs_i,'.')\n",
    "pylab.title('Raster plot (Inhibitory)')\n",
    "pylab.xlabel('time (ms)')\n",
    "#pylab.xlim(0,100)\n",
    "pylab.ylabel('neuron index')\n",
    "pylab.savefig('Raster_Inib_params.png')\n",
    "pylab.show()\n",
    "\n",
    "\n",
    "# pylab.figure(5)\n",
    "# pylab.plot(ts_e,evs_e,'.',color='g')\n",
    "# pylab.plot(ts_i,evs_i,'.',color='g')\n",
    "# pylab.title('Raster plot (Exitotory+Inhibitory)')\n",
    "# pylab.xlabel('time (ms)')\n",
    "# pylab.ylabel('neuron')\n",
    "# #pylab.plot(ts2,evs2,'.')\n",
    "# pylab.show()"
   ]
  },
  {
   "cell_type": "markdown",
   "id": "559affc4",
   "metadata": {},
   "source": [
    "# Analyse the network:"
   ]
  },
  {
   "cell_type": "markdown",
   "id": "22d154e4",
   "metadata": {},
   "source": [
    "Try to change the input to the neurons. \n",
    "Instead of an input with Gaussian noise use a constant input.\n",
    "What is the effect on the raster plots? \\\n",
    "Save the plots for each test you do. "
   ]
  },
  {
   "cell_type": "code",
   "execution_count": 148,
   "id": "c5f8b9d6",
   "metadata": {},
   "outputs": [],
   "source": [
    "#Answer:\n",
    "#Solution: The neurons are perfectly synchronized. "
   ]
  },
  {
   "cell_type": "markdown",
   "id": "cace9179",
   "metadata": {},
   "source": [
    "Why do you think the neurons synchronize?"
   ]
  },
  {
   "cell_type": "code",
   "execution_count": 149,
   "id": "bfd2262c",
   "metadata": {},
   "outputs": [],
   "source": [
    "#Answer:\n",
    "#No noise in the system, they all receive the same input, \n",
    "#they have same parameters so behave the same, spike at the same times."
   ]
  },
  {
   "cell_type": "markdown",
   "id": "b8183d5b",
   "metadata": {},
   "source": [
    "What happens if your external input is higher? How this influence the firing rate of the neurons? Try to increase the external input in both cases (constant input and noise)."
   ]
  },
  {
   "cell_type": "code",
   "execution_count": 150,
   "id": "7a2d3ef4",
   "metadata": {},
   "outputs": [],
   "source": [
    "#Answer:\n",
    "#FR is significantly increased"
   ]
  },
  {
   "cell_type": "markdown",
   "id": "0a819221",
   "metadata": {},
   "source": [
    "What is the overall behaviour of the excitatory population when the input is increased?"
   ]
  },
  {
   "cell_type": "code",
   "execution_count": 151,
   "id": "b43ab996",
   "metadata": {},
   "outputs": [],
   "source": [
    "#Answer\n",
    "#More synchronized"
   ]
  },
  {
   "cell_type": "markdown",
   "id": "67e78f30",
   "metadata": {},
   "source": [
    "What about the single neuron behaviour? Does it fire more? (Look at the Vm plots of 1 neuron and compare the two cases)"
   ]
  },
  {
   "cell_type": "code",
   "execution_count": 152,
   "id": "6d057207",
   "metadata": {},
   "outputs": [],
   "source": [
    "#Answer:\n",
    "#Yes"
   ]
  },
  {
   "cell_type": "markdown",
   "id": "ea12d816",
   "metadata": {},
   "source": [
    "Now change the strenght of connections between the two groups.\n",
    "What is the effect of each change in the network behaviour? Save the plots"
   ]
  },
  {
   "cell_type": "code",
   "execution_count": 153,
   "id": "bacc5cb0",
   "metadata": {},
   "outputs": [],
   "source": [
    "#Answer:"
   ]
  },
  {
   "cell_type": "markdown",
   "id": "5ad2043b",
   "metadata": {},
   "source": [
    "What happens if Jei is too strong? Why is this happening?"
   ]
  },
  {
   "cell_type": "code",
   "execution_count": 138,
   "id": "1ba526b3",
   "metadata": {},
   "outputs": [],
   "source": [
    "#Answer:\n",
    "#The excitatory are not spiking. They are too inhibited by the i population so they are not able to emit spikes."
   ]
  }
 ],
 "metadata": {
  "kernelspec": {
   "display_name": "Python 3",
   "language": "python",
   "name": "python3"
  },
  "language_info": {
   "codemirror_mode": {
    "name": "ipython",
    "version": 3
   },
   "file_extension": ".py",
   "mimetype": "text/x-python",
   "name": "python",
   "nbconvert_exporter": "python",
   "pygments_lexer": "ipython3",
   "version": "3.8.8"
  }
 },
 "nbformat": 4,
 "nbformat_minor": 5
}
